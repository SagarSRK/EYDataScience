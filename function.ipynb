{
 "cells": [
  {
   "cell_type": "code",
   "execution_count": 60,
   "metadata": {},
   "outputs": [
    {
     "name": "stdin",
     "output_type": "stream",
     "text": [
      "Enter the First String foo\n",
      "Enter the second String bar\n"
     ]
    },
    {
     "name": "stdout",
     "output_type": "stream",
     "text": [
      "foobar\n"
     ]
    }
   ],
   "source": [
    "def joinstr(str1,str2):\n",
    "    print(str1+str2)\n",
    "    \n",
    "    \n",
    "str1=input(\"Enter the First String\")\n",
    "str2=input(\"Enter the second String\")\n",
    "joinstr(str1,str2)\n"
   ]
  },
  {
   "cell_type": "code",
   "execution_count": 61,
   "metadata": {},
   "outputs": [
    {
     "name": "stdin",
     "output_type": "stream",
     "text": [
      "Enter the First String foo\n",
      "Enter the second String bar\n"
     ]
    },
    {
     "name": "stdout",
     "output_type": "stream",
     "text": [
      "foo bar\n"
     ]
    }
   ],
   "source": [
    "def joinstr(str1,str2):\n",
    "    print(str1+' '+str2)\n",
    "    \n",
    "    \n",
    "str1=input(\"Enter the First String\")\n",
    "str2=input(\"Enter the second String\")\n",
    "joinstr(str1,str2)\n"
   ]
  },
  {
   "cell_type": "code",
   "execution_count": 62,
   "metadata": {},
   "outputs": [
    {
     "name": "stdin",
     "output_type": "stream",
     "text": [
      "Enter the First String foo\n",
      "Enter the second String bar\n"
     ]
    },
    {
     "name": "stdout",
     "output_type": "stream",
     "text": [
      "0\n"
     ]
    }
   ],
   "source": [
    "def joinstr(str1,str2):\n",
    "    print(len(str1)-len(str2))\n",
    "    \n",
    "    \n",
    "str1=input(\"Enter the First String\")\n",
    "str2=input(\"Enter the second String\")\n",
    "joinstr(str1,str2)"
   ]
  },
  {
   "cell_type": "code",
   "execution_count": 71,
   "metadata": {},
   "outputs": [
    {
     "name": "stdin",
     "output_type": "stream",
     "text": [
      "Enter the First Number 10\n",
      "Enter the second Number 0\n",
      "Enter add or sub or mul or div div\n"
     ]
    },
    {
     "name": "stdout",
     "output_type": "stream",
     "text": [
      "Divide by zero\n"
     ]
    }
   ],
   "source": [
    "def calc(str1,str2,str3):\n",
    "    if str3=='add':\n",
    "        print(str1+str2)\n",
    "    else:\n",
    "        if str3=='sub':\n",
    "            print(str1-str2)\n",
    "        else:\n",
    "            if str3=='mul':\n",
    "                print(str1*str2)\n",
    "            else:\n",
    "                 if str3=='div':\n",
    "                    if str2==0:\n",
    "                        print(\"Divide by zero\")\n",
    "                    else:\n",
    "                        print(str1/str2)\n",
    "    \n",
    "    \n",
    "    \n",
    "str1=int(input(\"Enter the First Number\"))\n",
    "str2=int(input(\"Enter the second Number\"))\n",
    "str3=input(\"Enter add or sub or mul or div\")\n",
    "calc(str1,str2,str3)"
   ]
  },
  {
   "cell_type": "code",
   "execution_count": null,
   "metadata": {},
   "outputs": [],
   "source": []
  }
 ],
 "metadata": {
  "kernelspec": {
   "display_name": "Python 3",
   "language": "python",
   "name": "python3"
  },
  "language_info": {
   "codemirror_mode": {
    "name": "ipython",
    "version": 3
   },
   "file_extension": ".py",
   "mimetype": "text/x-python",
   "name": "python",
   "nbconvert_exporter": "python",
   "pygments_lexer": "ipython3",
   "version": "3.7.6"
  }
 },
 "nbformat": 4,
 "nbformat_minor": 4
}
