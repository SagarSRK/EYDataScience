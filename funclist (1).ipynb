{
 "cells": [
  {
   "cell_type": "code",
   "execution_count": 7,
   "metadata": {},
   "outputs": [
    {
     "name": "stdout",
     "output_type": "stream",
     "text": [
      "[5, 9, 9, 10]\n",
      "[0.15151515151515152, 0.2727272727272727, 0.2727272727272727, 0.30303030303030304]\n"
     ]
    }
   ],
   "source": [
    "list1=['book','man','woman']\n",
    "list2=['character','python','location','green']\n",
    "list3=['python','mumbai','melbourne']\n",
    "list4=['parliament','sports','ecommerce']\n",
    "list=list1,list2,list3,list4\n",
    "func1(list)"
   ]
  },
  {
   "cell_type": "code",
   "execution_count": 5,
   "metadata": {},
   "outputs": [],
   "source": [
    "def func1(list):\n",
    "    a=[]\n",
    "    b=[]\n",
    "    for i in list:\n",
    "        for j in i:\n",
    "            a.append(len(j))\n",
    "        b.append(max(a))\n",
    "    print(b)\n",
    "    func2(b)\n",
    "    \n",
    "def func2(b):\n",
    "    c=[]\n",
    "    sums=sum(b)\n",
    "    for i in b:\n",
    "        c.append(i/sums)\n",
    "    print(c)\n",
    "        \n",
    "    \n",
    "    \n",
    "    "
   ]
  },
  {
   "cell_type": "code",
   "execution_count": null,
   "metadata": {},
   "outputs": [],
   "source": []
  }
 ],
 "metadata": {
  "kernelspec": {
   "display_name": "Python 3",
   "language": "python",
   "name": "python3"
  },
  "language_info": {
   "codemirror_mode": {
    "name": "ipython",
    "version": 3
   },
   "file_extension": ".py",
   "mimetype": "text/x-python",
   "name": "python",
   "nbconvert_exporter": "python",
   "pygments_lexer": "ipython3",
   "version": "3.7.6"
  }
 },
 "nbformat": 4,
 "nbformat_minor": 4
}
