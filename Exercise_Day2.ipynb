{
 "cells": [
  {
   "cell_type": "code",
   "execution_count": 29,
   "metadata": {},
   "outputs": [
    {
     "name": "stdin",
     "output_type": "stream",
     "text": [
      "Enter the Rating for the Movie:  4.5\n"
     ]
    },
    {
     "name": "stdout",
     "output_type": "stream",
     "text": [
      "Great Movie\n"
     ]
    }
   ],
   "source": [
    "ur=float(input(\"Enter the Rating for the Movie: \"))\n",
    "if ur>=0 and ur<=1.0:\n",
    "    print(\"Bad Movie\")\n",
    "else:\n",
    "    if ur>=1.1 and ur<=3.0:\n",
    "        print(\"Average Movie\")\n",
    "    else:\n",
    "        if ur>=3.1 and ur<=4.5:\n",
    "            print(\"Great Movie\")\n",
    "        else:\n",
    "            print(\"Excellent Movie\")\n",
    "\n"
   ]
  },
  {
   "cell_type": "code",
   "execution_count": 30,
   "metadata": {},
   "outputs": [],
   "source": [
    "employee = ['John', 'Mary', 'Krishna', 'Namesh', 'Aastha', 'Jason', 'Kavita', 'Ravi', 'Shruti', 'Shubham']\n",
    "salaries = (10000, 12000, 13000, 18500, 11000, 19800, 20000, 23500, 19450, 8000)\n",
    "ratings = (2.3, 4.7, 4.3, 9.9, 8.4, 6.1, 6.1, 4.0, 8.8, 9.3)"
   ]
  },
  {
   "cell_type": "code",
   "execution_count": 55,
   "metadata": {},
   "outputs": [],
   "source": [
    "for index,value in enumerate(ratings):\n",
    "    if value>=0 and value<=3:\n",
    "        sal=salaries[index]\n",
    "        empratings[employee[index]]=(sal,ratings[index])\n",
    "    else:\n",
    "        if value>3 and value<=5:\n",
    "            sal=salaries[index]\n",
    "            salary=(sal*0.3)+sal\n",
    "            empratings[employee[index]]=(salary,ratings[index])\n",
    "        else:\n",
    "            if value>5 and value<=7:\n",
    "                sal=salaries[index]\n",
    "                salary=(sal*0.5)+sal\n",
    "                empratings[employee[index]]=(salary,ratings[index])\n",
    "            else:\n",
    "                if value>7 and value<=9:\n",
    "                    sal=salaries[index]\n",
    "                    salary=(sal*0.7)+sal\n",
    "                    empratings[employee[index]]=(salary,ratings[index])\n",
    "                else:\n",
    "                    sal=salaries[index]\n",
    "                    bonus=sal*0.10\n",
    "                    salary=((sal*0.7)+sal)+bonus\n",
    "                    empratings[employee[index]]=(salary,ratings[index])\n",
    "    "
   ]
  },
  {
   "cell_type": "code",
   "execution_count": 56,
   "metadata": {},
   "outputs": [
    {
     "data": {
      "text/plain": [
       "{'John': (10000, 2.3),\n",
       " 'Mary': (15600.0, 4.7),\n",
       " 'Krishna': (16900.0, 4.3),\n",
       " 'Namesh': (33300.0, 9.9),\n",
       " 'Aastha': (18700.0, 8.4),\n",
       " 'Jason': (29700.0, 6.1),\n",
       " 'Kavita': (30000.0, 6.1),\n",
       " 'Ravi': (30550.0, 4.0),\n",
       " 'Shruti': (33065.0, 8.8),\n",
       " 'Shubham': (14400.0, 9.3)}"
      ]
     },
     "execution_count": 56,
     "metadata": {},
     "output_type": "execute_result"
    }
   ],
   "source": [
    "empratings"
   ]
  },
  {
   "cell_type": "code",
   "execution_count": null,
   "metadata": {},
   "outputs": [],
   "source": []
  }
 ],
 "metadata": {
  "kernelspec": {
   "display_name": "Python 3",
   "language": "python",
   "name": "python3"
  },
  "language_info": {
   "codemirror_mode": {
    "name": "ipython",
    "version": 3
   },
   "file_extension": ".py",
   "mimetype": "text/x-python",
   "name": "python",
   "nbconvert_exporter": "python",
   "pygments_lexer": "ipython3",
   "version": "3.7.6"
  }
 },
 "nbformat": 4,
 "nbformat_minor": 4
}
