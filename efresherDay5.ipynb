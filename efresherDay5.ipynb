{
 "cells": [
  {
   "cell_type": "code",
   "execution_count": 164,
   "id": "36478d3f-a545-461e-9bd9-8db262877adc",
   "metadata": {},
   "outputs": [],
   "source": [
    "import pandas as pd\n",
    "import seaborn as sns\n",
    "import numpy as np\n",
    "import matplotlib.pyplot as plt"
   ]
  },
  {
   "cell_type": "code",
   "execution_count": 165,
   "id": "fd305fd2-f115-47e2-98b9-7adbf955c383",
   "metadata": {},
   "outputs": [],
   "source": [
    "data=pd.read_csv('/voc/work/Day5/ne.csv')"
   ]
  },
  {
   "cell_type": "code",
   "execution_count": 166,
   "id": "a9ead319-0285-4e8b-8fed-00f3d1a8bb8e",
   "metadata": {},
   "outputs": [
    {
     "data": {
      "text/plain": [
       "Index(['WEAPON SOURCE COUNTRY', 'WEAPON DEPLOYMENT LOCATION', 'Data.Source',\n",
       "       'Location.Cordinates.Latitude', 'Location.Cordinates.Longitude',\n",
       "       'Data.Magnitude.Body', 'Data.Magnitude.Surface',\n",
       "       'Location.Cordinates.Depth', 'Data.Yeild.Lower', 'Data.Yeild.Upper',\n",
       "       'Data.Purpose', 'Data.Name', 'Data.Type', 'Date.Day', 'Date.Month',\n",
       "       'Date.Year'],\n",
       "      dtype='object')"
      ]
     },
     "execution_count": 166,
     "metadata": {},
     "output_type": "execute_result"
    }
   ],
   "source": [
    "data.columns"
   ]
  },
  {
   "cell_type": "code",
   "execution_count": 167,
   "id": "cad4a78b-e8e2-47c3-8111-0f3db9d65e6c",
   "metadata": {},
   "outputs": [
    {
     "data": {
      "text/plain": [
       "0       Alamogordo\n",
       "1        Hiroshima\n",
       "2         Nagasaki\n",
       "3           Bikini\n",
       "4           Bikini\n",
       "           ...    \n",
       "2041       Lop Nor\n",
       "2042       Pokhran\n",
       "2043       Pokhran\n",
       "2044        Chagai\n",
       "2045        Kharan\n",
       "Name: WEAPON DEPLOYMENT LOCATION, Length: 2046, dtype: object"
      ]
     },
     "execution_count": 167,
     "metadata": {},
     "output_type": "execute_result"
    }
   ],
   "source": [
    "data['WEAPON DEPLOYMENT LOCATION']"
   ]
  },
  {
   "cell_type": "code",
   "execution_count": 168,
   "id": "7a689255-9244-403e-a919-879b90f5b5cb",
   "metadata": {},
   "outputs": [],
   "source": [
    "data.columns=['SOURCE_COUNTRY', 'DEPLOY_LOC', 'Source',\n",
    "       'Latitude', 'Longitude',\n",
    "       'Body', 'Surface',\n",
    "       'Depth', 'Lower', 'Upper',\n",
    "       'Purpose', 'Name', 'Type', 'Day', 'Month',\n",
    "       'Year']"
   ]
  },
  {
   "cell_type": "code",
   "execution_count": 169,
   "id": "7069667a-d677-41d7-b0fb-bc214b6d1cf4",
   "metadata": {},
   "outputs": [
    {
     "data": {
      "text/html": [
       "<div>\n",
       "<style scoped>\n",
       "    .dataframe tbody tr th:only-of-type {\n",
       "        vertical-align: middle;\n",
       "    }\n",
       "\n",
       "    .dataframe tbody tr th {\n",
       "        vertical-align: top;\n",
       "    }\n",
       "\n",
       "    .dataframe thead th {\n",
       "        text-align: right;\n",
       "    }\n",
       "</style>\n",
       "<table border=\"1\" class=\"dataframe\">\n",
       "  <thead>\n",
       "    <tr style=\"text-align: right;\">\n",
       "      <th></th>\n",
       "      <th>SOURCE_COUNTRY</th>\n",
       "      <th>DEPLOY_LOC</th>\n",
       "      <th>Source</th>\n",
       "      <th>Latitude</th>\n",
       "      <th>Longitude</th>\n",
       "      <th>Body</th>\n",
       "      <th>Surface</th>\n",
       "      <th>Depth</th>\n",
       "      <th>Lower</th>\n",
       "      <th>Upper</th>\n",
       "      <th>Purpose</th>\n",
       "      <th>Name</th>\n",
       "      <th>Type</th>\n",
       "      <th>Day</th>\n",
       "      <th>Month</th>\n",
       "      <th>Year</th>\n",
       "    </tr>\n",
       "  </thead>\n",
       "  <tbody>\n",
       "    <tr>\n",
       "      <th>2021</th>\n",
       "      <td>USA</td>\n",
       "      <td>Nts</td>\n",
       "      <td>HFS</td>\n",
       "      <td>37.272</td>\n",
       "      <td>-116.360</td>\n",
       "      <td>5.6</td>\n",
       "      <td>0.0</td>\n",
       "      <td>0.0</td>\n",
       "      <td>20.0</td>\n",
       "      <td>150.0</td>\n",
       "      <td>Wr</td>\n",
       "      <td>Junction</td>\n",
       "      <td>Shaft</td>\n",
       "      <td>26</td>\n",
       "      <td>3</td>\n",
       "      <td>1992</td>\n",
       "    </tr>\n",
       "    <tr>\n",
       "      <th>2022</th>\n",
       "      <td>USA</td>\n",
       "      <td>Nts</td>\n",
       "      <td>DOE</td>\n",
       "      <td>37.000</td>\n",
       "      <td>-116.000</td>\n",
       "      <td>0.0</td>\n",
       "      <td>0.0</td>\n",
       "      <td>0.0</td>\n",
       "      <td>0.0</td>\n",
       "      <td>20.0</td>\n",
       "      <td>We</td>\n",
       "      <td>Dimond Fortune</td>\n",
       "      <td>Tunnel</td>\n",
       "      <td>30</td>\n",
       "      <td>4</td>\n",
       "      <td>1992</td>\n",
       "    </tr>\n",
       "    <tr>\n",
       "      <th>2023</th>\n",
       "      <td>CHINA</td>\n",
       "      <td>Lop Nor</td>\n",
       "      <td>HFS</td>\n",
       "      <td>41.604</td>\n",
       "      <td>88.813</td>\n",
       "      <td>7.1</td>\n",
       "      <td>5.0</td>\n",
       "      <td>0.0</td>\n",
       "      <td>660.0</td>\n",
       "      <td>660.0</td>\n",
       "      <td>Wr</td>\n",
       "      <td>Nan</td>\n",
       "      <td>Ug</td>\n",
       "      <td>21</td>\n",
       "      <td>5</td>\n",
       "      <td>1992</td>\n",
       "    </tr>\n",
       "    <tr>\n",
       "      <th>2024</th>\n",
       "      <td>USA</td>\n",
       "      <td>Nts</td>\n",
       "      <td>DOE</td>\n",
       "      <td>37.005</td>\n",
       "      <td>-116.010</td>\n",
       "      <td>0.0</td>\n",
       "      <td>0.0</td>\n",
       "      <td>0.0</td>\n",
       "      <td>0.0</td>\n",
       "      <td>20.0</td>\n",
       "      <td>Wr</td>\n",
       "      <td>Victoria</td>\n",
       "      <td>Shaft</td>\n",
       "      <td>19</td>\n",
       "      <td>6</td>\n",
       "      <td>1992</td>\n",
       "    </tr>\n",
       "    <tr>\n",
       "      <th>2025</th>\n",
       "      <td>USA</td>\n",
       "      <td>Nts</td>\n",
       "      <td>DOE</td>\n",
       "      <td>37.124</td>\n",
       "      <td>-116.031</td>\n",
       "      <td>0.0</td>\n",
       "      <td>0.0</td>\n",
       "      <td>0.0</td>\n",
       "      <td>0.0</td>\n",
       "      <td>20.0</td>\n",
       "      <td>Wr/Se</td>\n",
       "      <td>Galena Y/O/G</td>\n",
       "      <td>Shaft</td>\n",
       "      <td>23</td>\n",
       "      <td>6</td>\n",
       "      <td>1992</td>\n",
       "    </tr>\n",
       "    <tr>\n",
       "      <th>2026</th>\n",
       "      <td>USA</td>\n",
       "      <td>Nts</td>\n",
       "      <td>HFS</td>\n",
       "      <td>37.207</td>\n",
       "      <td>-116.210</td>\n",
       "      <td>4.4</td>\n",
       "      <td>0.0</td>\n",
       "      <td>0.0</td>\n",
       "      <td>0.0</td>\n",
       "      <td>20.0</td>\n",
       "      <td>We</td>\n",
       "      <td>Hunters Trophy</td>\n",
       "      <td>Tunnel</td>\n",
       "      <td>18</td>\n",
       "      <td>9</td>\n",
       "      <td>1992</td>\n",
       "    </tr>\n",
       "    <tr>\n",
       "      <th>2027</th>\n",
       "      <td>USA</td>\n",
       "      <td>Nts</td>\n",
       "      <td>DOE</td>\n",
       "      <td>37.021</td>\n",
       "      <td>-115.988</td>\n",
       "      <td>0.0</td>\n",
       "      <td>0.0</td>\n",
       "      <td>0.0</td>\n",
       "      <td>0.0</td>\n",
       "      <td>20.0</td>\n",
       "      <td>Wr</td>\n",
       "      <td>Divider</td>\n",
       "      <td>Shaft</td>\n",
       "      <td>23</td>\n",
       "      <td>9</td>\n",
       "      <td>1992</td>\n",
       "    </tr>\n",
       "    <tr>\n",
       "      <th>2028</th>\n",
       "      <td>CHINA</td>\n",
       "      <td>Lop Nor</td>\n",
       "      <td>HFS</td>\n",
       "      <td>41.763</td>\n",
       "      <td>88.387</td>\n",
       "      <td>5.4</td>\n",
       "      <td>0.0</td>\n",
       "      <td>0.0</td>\n",
       "      <td>1.0</td>\n",
       "      <td>20.0</td>\n",
       "      <td>Wr</td>\n",
       "      <td>Nan</td>\n",
       "      <td>Ug</td>\n",
       "      <td>25</td>\n",
       "      <td>9</td>\n",
       "      <td>1992</td>\n",
       "    </tr>\n",
       "    <tr>\n",
       "      <th>2029</th>\n",
       "      <td>CHINA</td>\n",
       "      <td>Lop Nor</td>\n",
       "      <td>HFS</td>\n",
       "      <td>41.667</td>\n",
       "      <td>88.695</td>\n",
       "      <td>6.4</td>\n",
       "      <td>4.1</td>\n",
       "      <td>0.0</td>\n",
       "      <td>40.0</td>\n",
       "      <td>80.0</td>\n",
       "      <td>Wr</td>\n",
       "      <td>Nan</td>\n",
       "      <td>Ug</td>\n",
       "      <td>5</td>\n",
       "      <td>10</td>\n",
       "      <td>1993</td>\n",
       "    </tr>\n",
       "    <tr>\n",
       "      <th>2030</th>\n",
       "      <td>CHINA</td>\n",
       "      <td>Lop Nor</td>\n",
       "      <td>HFS</td>\n",
       "      <td>41.527</td>\n",
       "      <td>88.710</td>\n",
       "      <td>6.3</td>\n",
       "      <td>3.6</td>\n",
       "      <td>0.0</td>\n",
       "      <td>30.0</td>\n",
       "      <td>120.0</td>\n",
       "      <td>Wr</td>\n",
       "      <td>Nan</td>\n",
       "      <td>Ug</td>\n",
       "      <td>10</td>\n",
       "      <td>6</td>\n",
       "      <td>1994</td>\n",
       "    </tr>\n",
       "    <tr>\n",
       "      <th>2031</th>\n",
       "      <td>CHINA</td>\n",
       "      <td>Lop Nor</td>\n",
       "      <td>HFS</td>\n",
       "      <td>41.662</td>\n",
       "      <td>88.753</td>\n",
       "      <td>6.3</td>\n",
       "      <td>0.0</td>\n",
       "      <td>0.0</td>\n",
       "      <td>30.0</td>\n",
       "      <td>120.0</td>\n",
       "      <td>Wr</td>\n",
       "      <td>Nan</td>\n",
       "      <td>Ug</td>\n",
       "      <td>7</td>\n",
       "      <td>10</td>\n",
       "      <td>1994</td>\n",
       "    </tr>\n",
       "    <tr>\n",
       "      <th>2032</th>\n",
       "      <td>CHINA</td>\n",
       "      <td>Lop Nor</td>\n",
       "      <td>HFS</td>\n",
       "      <td>41.603</td>\n",
       "      <td>88.820</td>\n",
       "      <td>6.5</td>\n",
       "      <td>0.0</td>\n",
       "      <td>0.0</td>\n",
       "      <td>50.0</td>\n",
       "      <td>200.0</td>\n",
       "      <td>Wr</td>\n",
       "      <td>Nan</td>\n",
       "      <td>Ug</td>\n",
       "      <td>15</td>\n",
       "      <td>5</td>\n",
       "      <td>1995</td>\n",
       "    </tr>\n",
       "    <tr>\n",
       "      <th>2033</th>\n",
       "      <td>CHINA</td>\n",
       "      <td>Lop Nor</td>\n",
       "      <td>HFS</td>\n",
       "      <td>41.559</td>\n",
       "      <td>88.800</td>\n",
       "      <td>6.4</td>\n",
       "      <td>0.0</td>\n",
       "      <td>0.0</td>\n",
       "      <td>40.0</td>\n",
       "      <td>160.0</td>\n",
       "      <td>Wr</td>\n",
       "      <td>Nan</td>\n",
       "      <td>Ug</td>\n",
       "      <td>17</td>\n",
       "      <td>8</td>\n",
       "      <td>1995</td>\n",
       "    </tr>\n",
       "    <tr>\n",
       "      <th>2034</th>\n",
       "      <td>FRANCE</td>\n",
       "      <td>Mururoa</td>\n",
       "      <td>WTN</td>\n",
       "      <td>-21.852</td>\n",
       "      <td>-138.844</td>\n",
       "      <td>0.0</td>\n",
       "      <td>0.0</td>\n",
       "      <td>0.0</td>\n",
       "      <td>0.0</td>\n",
       "      <td>20.0</td>\n",
       "      <td>Wr</td>\n",
       "      <td>Tethys</td>\n",
       "      <td>Ug</td>\n",
       "      <td>5</td>\n",
       "      <td>9</td>\n",
       "      <td>1995</td>\n",
       "    </tr>\n",
       "    <tr>\n",
       "      <th>2035</th>\n",
       "      <td>FRANCE</td>\n",
       "      <td>Fangataufa</td>\n",
       "      <td>WTN</td>\n",
       "      <td>-22.250</td>\n",
       "      <td>-138.745</td>\n",
       "      <td>0.0</td>\n",
       "      <td>0.0</td>\n",
       "      <td>0.0</td>\n",
       "      <td>0.0</td>\n",
       "      <td>110.0</td>\n",
       "      <td>Wr</td>\n",
       "      <td>Ploutos</td>\n",
       "      <td>Ug</td>\n",
       "      <td>1</td>\n",
       "      <td>10</td>\n",
       "      <td>1995</td>\n",
       "    </tr>\n",
       "    <tr>\n",
       "      <th>2036</th>\n",
       "      <td>FRANCE</td>\n",
       "      <td>Mururoa</td>\n",
       "      <td>WTN</td>\n",
       "      <td>-21.891</td>\n",
       "      <td>-138.983</td>\n",
       "      <td>0.0</td>\n",
       "      <td>0.0</td>\n",
       "      <td>0.0</td>\n",
       "      <td>0.0</td>\n",
       "      <td>60.0</td>\n",
       "      <td>Wr</td>\n",
       "      <td>Aepytos</td>\n",
       "      <td>Ug</td>\n",
       "      <td>27</td>\n",
       "      <td>10</td>\n",
       "      <td>1995</td>\n",
       "    </tr>\n",
       "    <tr>\n",
       "      <th>2037</th>\n",
       "      <td>FRANCE</td>\n",
       "      <td>Mururoa</td>\n",
       "      <td>WTN</td>\n",
       "      <td>-21.879</td>\n",
       "      <td>-139.032</td>\n",
       "      <td>0.0</td>\n",
       "      <td>0.0</td>\n",
       "      <td>0.0</td>\n",
       "      <td>0.0</td>\n",
       "      <td>40.0</td>\n",
       "      <td>Wr</td>\n",
       "      <td>Pbegee</td>\n",
       "      <td>Ug</td>\n",
       "      <td>21</td>\n",
       "      <td>11</td>\n",
       "      <td>1995</td>\n",
       "    </tr>\n",
       "    <tr>\n",
       "      <th>2038</th>\n",
       "      <td>FRANCE</td>\n",
       "      <td>Mururoa</td>\n",
       "      <td>WTN</td>\n",
       "      <td>-21.881</td>\n",
       "      <td>-138.973</td>\n",
       "      <td>0.0</td>\n",
       "      <td>0.0</td>\n",
       "      <td>0.0</td>\n",
       "      <td>0.0</td>\n",
       "      <td>30.0</td>\n",
       "      <td>Wr</td>\n",
       "      <td>Themisto</td>\n",
       "      <td>Ug</td>\n",
       "      <td>27</td>\n",
       "      <td>12</td>\n",
       "      <td>1995</td>\n",
       "    </tr>\n",
       "    <tr>\n",
       "      <th>2039</th>\n",
       "      <td>FRANCE</td>\n",
       "      <td>Fangataufa</td>\n",
       "      <td>WTN</td>\n",
       "      <td>-22.236</td>\n",
       "      <td>-138.815</td>\n",
       "      <td>0.0</td>\n",
       "      <td>0.0</td>\n",
       "      <td>0.0</td>\n",
       "      <td>0.0</td>\n",
       "      <td>120.0</td>\n",
       "      <td>Wr</td>\n",
       "      <td>Xouthos</td>\n",
       "      <td>Ug</td>\n",
       "      <td>27</td>\n",
       "      <td>1</td>\n",
       "      <td>1996</td>\n",
       "    </tr>\n",
       "    <tr>\n",
       "      <th>2040</th>\n",
       "      <td>CHINA</td>\n",
       "      <td>Lop Nor</td>\n",
       "      <td>HFS</td>\n",
       "      <td>41.650</td>\n",
       "      <td>88.760</td>\n",
       "      <td>6.3</td>\n",
       "      <td>0.0</td>\n",
       "      <td>0.0</td>\n",
       "      <td>30.0</td>\n",
       "      <td>120.0</td>\n",
       "      <td>Wr</td>\n",
       "      <td>Nan</td>\n",
       "      <td>Ug</td>\n",
       "      <td>8</td>\n",
       "      <td>6</td>\n",
       "      <td>1996</td>\n",
       "    </tr>\n",
       "    <tr>\n",
       "      <th>2041</th>\n",
       "      <td>CHINA</td>\n",
       "      <td>Lop Nor</td>\n",
       "      <td>HFS</td>\n",
       "      <td>41.690</td>\n",
       "      <td>88.350</td>\n",
       "      <td>5.3</td>\n",
       "      <td>0.0</td>\n",
       "      <td>0.0</td>\n",
       "      <td>3.0</td>\n",
       "      <td>12.0</td>\n",
       "      <td>Wr</td>\n",
       "      <td>Nan</td>\n",
       "      <td>Ug</td>\n",
       "      <td>29</td>\n",
       "      <td>7</td>\n",
       "      <td>1996</td>\n",
       "    </tr>\n",
       "    <tr>\n",
       "      <th>2042</th>\n",
       "      <td>INDIA</td>\n",
       "      <td>Pokhran</td>\n",
       "      <td>HFS</td>\n",
       "      <td>27.070</td>\n",
       "      <td>71.700</td>\n",
       "      <td>5.3</td>\n",
       "      <td>0.0</td>\n",
       "      <td>0.0</td>\n",
       "      <td>0.0</td>\n",
       "      <td>20.0</td>\n",
       "      <td>Wr</td>\n",
       "      <td>Shakti 1-3</td>\n",
       "      <td>Ug</td>\n",
       "      <td>11</td>\n",
       "      <td>5</td>\n",
       "      <td>1998</td>\n",
       "    </tr>\n",
       "    <tr>\n",
       "      <th>2043</th>\n",
       "      <td>INDIA</td>\n",
       "      <td>Pokhran</td>\n",
       "      <td>NRD</td>\n",
       "      <td>27.070</td>\n",
       "      <td>71.700</td>\n",
       "      <td>0.0</td>\n",
       "      <td>0.0</td>\n",
       "      <td>0.0</td>\n",
       "      <td>0.0</td>\n",
       "      <td>1.0</td>\n",
       "      <td>Wr</td>\n",
       "      <td>Nan</td>\n",
       "      <td>Ug</td>\n",
       "      <td>13</td>\n",
       "      <td>5</td>\n",
       "      <td>1998</td>\n",
       "    </tr>\n",
       "    <tr>\n",
       "      <th>2044</th>\n",
       "      <td>PAKIST</td>\n",
       "      <td>Chagai</td>\n",
       "      <td>HFS</td>\n",
       "      <td>28.900</td>\n",
       "      <td>64.890</td>\n",
       "      <td>0.0</td>\n",
       "      <td>0.0</td>\n",
       "      <td>0.0</td>\n",
       "      <td>0.0</td>\n",
       "      <td>35.0</td>\n",
       "      <td>Wr</td>\n",
       "      <td>Nan</td>\n",
       "      <td>Ug</td>\n",
       "      <td>28</td>\n",
       "      <td>5</td>\n",
       "      <td>1998</td>\n",
       "    </tr>\n",
       "    <tr>\n",
       "      <th>2045</th>\n",
       "      <td>PAKIST</td>\n",
       "      <td>Kharan</td>\n",
       "      <td>HFS</td>\n",
       "      <td>28.490</td>\n",
       "      <td>63.780</td>\n",
       "      <td>5.0</td>\n",
       "      <td>0.0</td>\n",
       "      <td>0.0</td>\n",
       "      <td>0.0</td>\n",
       "      <td>18.0</td>\n",
       "      <td>Wr</td>\n",
       "      <td>Nan</td>\n",
       "      <td>Ug</td>\n",
       "      <td>30</td>\n",
       "      <td>5</td>\n",
       "      <td>1998</td>\n",
       "    </tr>\n",
       "  </tbody>\n",
       "</table>\n",
       "</div>"
      ],
      "text/plain": [
       "     SOURCE_COUNTRY  DEPLOY_LOC Source  Latitude  Longitude  Body  Surface  \\\n",
       "2021            USA         Nts    HFS    37.272   -116.360   5.6      0.0   \n",
       "2022            USA         Nts    DOE    37.000   -116.000   0.0      0.0   \n",
       "2023          CHINA     Lop Nor    HFS    41.604     88.813   7.1      5.0   \n",
       "2024            USA         Nts    DOE    37.005   -116.010   0.0      0.0   \n",
       "2025            USA         Nts    DOE    37.124   -116.031   0.0      0.0   \n",
       "2026            USA         Nts    HFS    37.207   -116.210   4.4      0.0   \n",
       "2027            USA         Nts    DOE    37.021   -115.988   0.0      0.0   \n",
       "2028          CHINA     Lop Nor    HFS    41.763     88.387   5.4      0.0   \n",
       "2029          CHINA     Lop Nor    HFS    41.667     88.695   6.4      4.1   \n",
       "2030          CHINA     Lop Nor    HFS    41.527     88.710   6.3      3.6   \n",
       "2031          CHINA     Lop Nor    HFS    41.662     88.753   6.3      0.0   \n",
       "2032          CHINA     Lop Nor    HFS    41.603     88.820   6.5      0.0   \n",
       "2033          CHINA     Lop Nor    HFS    41.559     88.800   6.4      0.0   \n",
       "2034         FRANCE     Mururoa    WTN   -21.852   -138.844   0.0      0.0   \n",
       "2035         FRANCE  Fangataufa    WTN   -22.250   -138.745   0.0      0.0   \n",
       "2036         FRANCE     Mururoa    WTN   -21.891   -138.983   0.0      0.0   \n",
       "2037         FRANCE     Mururoa    WTN   -21.879   -139.032   0.0      0.0   \n",
       "2038         FRANCE     Mururoa    WTN   -21.881   -138.973   0.0      0.0   \n",
       "2039         FRANCE  Fangataufa    WTN   -22.236   -138.815   0.0      0.0   \n",
       "2040          CHINA     Lop Nor    HFS    41.650     88.760   6.3      0.0   \n",
       "2041          CHINA     Lop Nor    HFS    41.690     88.350   5.3      0.0   \n",
       "2042          INDIA     Pokhran    HFS    27.070     71.700   5.3      0.0   \n",
       "2043          INDIA     Pokhran    NRD    27.070     71.700   0.0      0.0   \n",
       "2044         PAKIST      Chagai    HFS    28.900     64.890   0.0      0.0   \n",
       "2045         PAKIST      Kharan    HFS    28.490     63.780   5.0      0.0   \n",
       "\n",
       "      Depth  Lower  Upper Purpose            Name    Type  Day  Month  Year  \n",
       "2021    0.0   20.0  150.0      Wr        Junction   Shaft   26      3  1992  \n",
       "2022    0.0    0.0   20.0      We  Dimond Fortune  Tunnel   30      4  1992  \n",
       "2023    0.0  660.0  660.0      Wr             Nan      Ug   21      5  1992  \n",
       "2024    0.0    0.0   20.0      Wr        Victoria   Shaft   19      6  1992  \n",
       "2025    0.0    0.0   20.0   Wr/Se    Galena Y/O/G   Shaft   23      6  1992  \n",
       "2026    0.0    0.0   20.0      We  Hunters Trophy  Tunnel   18      9  1992  \n",
       "2027    0.0    0.0   20.0      Wr         Divider   Shaft   23      9  1992  \n",
       "2028    0.0    1.0   20.0      Wr             Nan      Ug   25      9  1992  \n",
       "2029    0.0   40.0   80.0      Wr             Nan      Ug    5     10  1993  \n",
       "2030    0.0   30.0  120.0      Wr             Nan      Ug   10      6  1994  \n",
       "2031    0.0   30.0  120.0      Wr             Nan      Ug    7     10  1994  \n",
       "2032    0.0   50.0  200.0      Wr             Nan      Ug   15      5  1995  \n",
       "2033    0.0   40.0  160.0      Wr             Nan      Ug   17      8  1995  \n",
       "2034    0.0    0.0   20.0      Wr          Tethys      Ug    5      9  1995  \n",
       "2035    0.0    0.0  110.0      Wr         Ploutos      Ug    1     10  1995  \n",
       "2036    0.0    0.0   60.0      Wr         Aepytos      Ug   27     10  1995  \n",
       "2037    0.0    0.0   40.0      Wr          Pbegee      Ug   21     11  1995  \n",
       "2038    0.0    0.0   30.0      Wr        Themisto      Ug   27     12  1995  \n",
       "2039    0.0    0.0  120.0      Wr         Xouthos      Ug   27      1  1996  \n",
       "2040    0.0   30.0  120.0      Wr             Nan      Ug    8      6  1996  \n",
       "2041    0.0    3.0   12.0      Wr             Nan      Ug   29      7  1996  \n",
       "2042    0.0    0.0   20.0      Wr      Shakti 1-3      Ug   11      5  1998  \n",
       "2043    0.0    0.0    1.0      Wr             Nan      Ug   13      5  1998  \n",
       "2044    0.0    0.0   35.0      Wr             Nan      Ug   28      5  1998  \n",
       "2045    0.0    0.0   18.0      Wr             Nan      Ug   30      5  1998  "
      ]
     },
     "execution_count": 169,
     "metadata": {},
     "output_type": "execute_result"
    }
   ],
   "source": [
    "data.tail(25)"
   ]
  },
  {
   "cell_type": "code",
   "execution_count": 170,
   "id": "55806b2b-857f-4bc7-affd-b72fb59624f8",
   "metadata": {},
   "outputs": [
    {
     "name": "stdout",
     "output_type": "stream",
     "text": [
      "<class 'pandas.core.frame.DataFrame'>\n",
      "RangeIndex: 2046 entries, 0 to 2045\n",
      "Data columns (total 16 columns):\n",
      " #   Column          Non-Null Count  Dtype  \n",
      "---  ------          --------------  -----  \n",
      " 0   SOURCE_COUNTRY  2046 non-null   object \n",
      " 1   DEPLOY_LOC      2046 non-null   object \n",
      " 2   Source          2046 non-null   object \n",
      " 3   Latitude        2046 non-null   float64\n",
      " 4   Longitude       2046 non-null   float64\n",
      " 5   Body            2046 non-null   float64\n",
      " 6   Surface         2046 non-null   float64\n",
      " 7   Depth           2046 non-null   float64\n",
      " 8   Lower           2046 non-null   float64\n",
      " 9   Upper           2046 non-null   float64\n",
      " 10  Purpose         2046 non-null   object \n",
      " 11  Name            2046 non-null   object \n",
      " 12  Type            2046 non-null   object \n",
      " 13  Day             2046 non-null   int64  \n",
      " 14  Month           2046 non-null   int64  \n",
      " 15  Year            2046 non-null   int64  \n",
      "dtypes: float64(7), int64(3), object(6)\n",
      "memory usage: 255.9+ KB\n"
     ]
    }
   ],
   "source": [
    "data.info()"
   ]
  },
  {
   "cell_type": "code",
   "execution_count": 171,
   "id": "961edf21-ae3c-4f3a-b496-e12fd83ab015",
   "metadata": {},
   "outputs": [
    {
     "data": {
      "text/plain": [
       "SOURCE_COUNTRY      0\n",
       "DEPLOY_LOC          0\n",
       "Source              0\n",
       "Latitude            0\n",
       "Longitude           0\n",
       "Body                0\n",
       "Surface             0\n",
       "Depth               0\n",
       "Lower               0\n",
       "Upper               0\n",
       "Purpose             1\n",
       "Name              663\n",
       "Type                0\n",
       "Day                 0\n",
       "Month               0\n",
       "Year                0\n",
       "dtype: int64"
      ]
     },
     "execution_count": 171,
     "metadata": {},
     "output_type": "execute_result"
    }
   ],
   "source": [
    "(data=='Nan').sum()"
   ]
  },
  {
   "cell_type": "code",
   "execution_count": 172,
   "id": "46236fc9-ef7d-4c41-b14e-685a7c7aa326",
   "metadata": {},
   "outputs": [
    {
     "data": {
      "text/plain": [
       "array(['USA', 'USSR', 'UK', 'FRANCE', 'CHINA', 'INDIA', 'PAKIST'],\n",
       "      dtype=object)"
      ]
     },
     "execution_count": 172,
     "metadata": {},
     "output_type": "execute_result"
    }
   ],
   "source": [
    "data['SOURCE_COUNTRY'].unique()"
   ]
  },
  {
   "cell_type": "code",
   "execution_count": 173,
   "id": "b95fa957-49b8-4999-adec-5d94908855d6",
   "metadata": {},
   "outputs": [
    {
     "data": {
      "text/plain": [
       "array(['Alamogordo', 'Hiroshima', 'Nagasaki', 'Bikini', 'Enewetak',\n",
       "       'Semi Kazakh', 'Nts', 'Monteb Austr', 'Emu Austr', 'Orenbg Russ',\n",
       "       'Offuswcoast', 'Nz Russ', 'Kazakh', 'Marali Austr', 'Mtr Russ',\n",
       "       'Mellis Nv', 'Malden Is', 'N2 Russ', 'Christmas Is', 'Pacific',\n",
       "       'Johnston Is', 'S. Atlantic', 'S.Atlantic', 'Htr Russ',\n",
       "       'Reggane Alg', 'In Ecker Alg', 'Carlsbad Nm', 'Nellis Nv',\n",
       "       'Fallon Nv', 'Lop Nor', 'Hattiesb Ms', 'Bashkir Russ',\n",
       "       'Amchitka Ak', 'Azgir Kazakh', 'Muruhoa', 'Mururoa', 'Fangataufa',\n",
       "       'Uzbek', 'Hattiese Ms', 'Murueoa', 'Tyumen Russ', 'Farmingt Nm',\n",
       "       'C. Nevada', 'Pamuk Uzbek', 'Perm Russ', 'Grand V Co',\n",
       "       'Stavro Russ', 'Mangy Kazakh', 'Ural Russ', 'Arkhan Russ',\n",
       "       'Mary Turkmen', 'Ukraine', 'Murm Russ', 'Kalmyk Russ', 'Rifle Co',\n",
       "       'W Mururoa', 'Pokhran', 'Wsw Mururoa', 'Komi Russ', 'Jakuts Russ',\n",
       "       'Krasno Russ', 'Chita Russ', 'Irkuts Russ', 'Jakuts Ruse',\n",
       "       'Azgie Kazakh', 'Azgir', 'Mueueoa', 'Ukeaine', 'Bashki Russ',\n",
       "       'Astrak Russ', 'Kz Russ', 'Kazakhstan', 'Kemero Russ',\n",
       "       'Tuymen Russ', 'W Kazakh', 'Hururoa', 'Fangataufaa', 'Chagai',\n",
       "       'Kharan'], dtype=object)"
      ]
     },
     "execution_count": 173,
     "metadata": {},
     "output_type": "execute_result"
    }
   ],
   "source": [
    "data['DEPLOY_LOC'].unique()"
   ]
  },
  {
   "cell_type": "code",
   "execution_count": 174,
   "id": "6bf2c82b-c2a8-4801-a761-cfd7c835421b",
   "metadata": {},
   "outputs": [
    {
     "data": {
      "text/plain": [
       "array(['DOE', 'MTM', 'UGS', 'ISC', 'DIS', 'SPA', 'ZAR', 'WTN', 'HFS',\n",
       "       'MTU', 'NRD', 'BKY', 'NOA'], dtype=object)"
      ]
     },
     "execution_count": 174,
     "metadata": {},
     "output_type": "execute_result"
    }
   ],
   "source": [
    "data['Source'].unique()"
   ]
  },
  {
   "cell_type": "code",
   "execution_count": 175,
   "id": "e5fefb4e-0139-4625-9b3b-de65f904ee2c",
   "metadata": {},
   "outputs": [
    {
     "data": {
      "text/plain": [
       "array(['Wr', 'Combat', 'We', 'Me', 'Se', 'Fms', 'Sb', 'Sam', 'Pne:Plo',\n",
       "       'Transp', 'Pne:V', 'Nan', 'Pne', 'Wr/Se', 'Wr/We', 'Wr/Pne',\n",
       "       'Wr/Sam', 'Pne/Wr', 'Se/Wr', 'Wr/P/Sa', 'We/Sam', 'We/Wr',\n",
       "       'Wr/F/Sa', 'Wr/Fms', 'Fms/Wr', 'Wr/P/S', 'Wr/F/S', 'Wr/We/S'],\n",
       "      dtype=object)"
      ]
     },
     "execution_count": 175,
     "metadata": {},
     "output_type": "execute_result"
    }
   ],
   "source": [
    "data['Purpose'].unique()"
   ]
  },
  {
   "cell_type": "code",
   "execution_count": 176,
   "id": "1ef89f8e-3301-4315-9e16-2aab1a8faf86",
   "metadata": {},
   "outputs": [
    {
     "data": {
      "text/plain": [
       "array(['Trinity', 'Littleboy', 'Fatman', ..., 'Themisto', 'Xouthos',\n",
       "       'Shakti 1-3'], dtype=object)"
      ]
     },
     "execution_count": 176,
     "metadata": {},
     "output_type": "execute_result"
    }
   ],
   "source": [
    "data['Name'].unique()"
   ]
  },
  {
   "cell_type": "code",
   "execution_count": 177,
   "id": "2eed9abb-a8da-49f0-9d8d-ca37c15d4085",
   "metadata": {},
   "outputs": [
    {
     "data": {
      "text/plain": [
       "array(['Tower', 'Airdrop', 'Uw', 'Surface', 'Crater', 'Ship', 'Atmosph',\n",
       "       'Barge', 'Balloon', 'Rocket', 'Shaft', 'Tunnel', 'Watersur',\n",
       "       'Space', 'Gallery', 'Water Su', 'Ug', 'Shaft/Gr', 'Mine',\n",
       "       'Shaft/Lg'], dtype=object)"
      ]
     },
     "execution_count": 177,
     "metadata": {},
     "output_type": "execute_result"
    }
   ],
   "source": [
    "data['Type'].unique()"
   ]
  },
  {
   "cell_type": "code",
   "execution_count": 178,
   "id": "ed8f5e1a-7e88-499e-846d-2bbda09876fc",
   "metadata": {},
   "outputs": [
    {
     "data": {
      "text/plain": [
       "SOURCE_COUNTRY     object\n",
       "DEPLOY_LOC         object\n",
       "Source             object\n",
       "Latitude          float64\n",
       "Longitude         float64\n",
       "Body              float64\n",
       "Surface           float64\n",
       "Depth             float64\n",
       "Lower             float64\n",
       "Upper             float64\n",
       "Purpose            object\n",
       "Name               object\n",
       "Type               object\n",
       "Day                 int64\n",
       "Month               int64\n",
       "Year                int64\n",
       "dtype: object"
      ]
     },
     "execution_count": 178,
     "metadata": {},
     "output_type": "execute_result"
    }
   ],
   "source": [
    "data.dtypes"
   ]
  },
  {
   "cell_type": "code",
   "execution_count": 179,
   "id": "64aaac18-1597-4704-87a5-0b8c7f8ba20d",
   "metadata": {},
   "outputs": [
    {
     "data": {
      "text/html": [
       "<div>\n",
       "<style scoped>\n",
       "    .dataframe tbody tr th:only-of-type {\n",
       "        vertical-align: middle;\n",
       "    }\n",
       "\n",
       "    .dataframe tbody tr th {\n",
       "        vertical-align: top;\n",
       "    }\n",
       "\n",
       "    .dataframe thead th {\n",
       "        text-align: right;\n",
       "    }\n",
       "</style>\n",
       "<table border=\"1\" class=\"dataframe\">\n",
       "  <thead>\n",
       "    <tr style=\"text-align: right;\">\n",
       "      <th></th>\n",
       "      <th>SOURCE_COUNTRY</th>\n",
       "      <th>DEPLOY_LOC</th>\n",
       "      <th>Source</th>\n",
       "      <th>Latitude</th>\n",
       "      <th>Longitude</th>\n",
       "      <th>Body</th>\n",
       "      <th>Surface</th>\n",
       "      <th>Depth</th>\n",
       "      <th>Lower</th>\n",
       "      <th>Upper</th>\n",
       "      <th>Purpose</th>\n",
       "      <th>Name</th>\n",
       "      <th>Type</th>\n",
       "      <th>Day</th>\n",
       "      <th>Month</th>\n",
       "      <th>Year</th>\n",
       "    </tr>\n",
       "  </thead>\n",
       "  <tbody>\n",
       "    <tr>\n",
       "      <th>352</th>\n",
       "      <td>USSR</td>\n",
       "      <td>Mtr Russ</td>\n",
       "      <td>MTM</td>\n",
       "      <td>48.0</td>\n",
       "      <td>46.0</td>\n",
       "      <td>0.0</td>\n",
       "      <td>0.0</td>\n",
       "      <td>0.0</td>\n",
       "      <td>1.200</td>\n",
       "      <td>1.2</td>\n",
       "      <td>We</td>\n",
       "      <td>Nan</td>\n",
       "      <td>Space</td>\n",
       "      <td>27</td>\n",
       "      <td>10</td>\n",
       "      <td>1961</td>\n",
       "    </tr>\n",
       "    <tr>\n",
       "      <th>1599</th>\n",
       "      <td>USSR</td>\n",
       "      <td>Semi Kazakh</td>\n",
       "      <td>MTM</td>\n",
       "      <td>50.0</td>\n",
       "      <td>78.0</td>\n",
       "      <td>0.0</td>\n",
       "      <td>0.0</td>\n",
       "      <td>0.0</td>\n",
       "      <td>0.001</td>\n",
       "      <td>20.0</td>\n",
       "      <td>Wr</td>\n",
       "      <td>Nan</td>\n",
       "      <td>Tunnel</td>\n",
       "      <td>5</td>\n",
       "      <td>12</td>\n",
       "      <td>1980</td>\n",
       "    </tr>\n",
       "    <tr>\n",
       "      <th>1789</th>\n",
       "      <td>USSR</td>\n",
       "      <td>Perm Russ</td>\n",
       "      <td>NOA</td>\n",
       "      <td>61.0</td>\n",
       "      <td>58.0</td>\n",
       "      <td>4.5</td>\n",
       "      <td>0.0</td>\n",
       "      <td>0.0</td>\n",
       "      <td>3.200</td>\n",
       "      <td>3.2</td>\n",
       "      <td>Pne</td>\n",
       "      <td>Geliy</td>\n",
       "      <td>Shaft</td>\n",
       "      <td>28</td>\n",
       "      <td>8</td>\n",
       "      <td>1984</td>\n",
       "    </tr>\n",
       "  </tbody>\n",
       "</table>\n",
       "</div>"
      ],
      "text/plain": [
       "     SOURCE_COUNTRY   DEPLOY_LOC Source  Latitude  Longitude  Body  Surface  \\\n",
       "352            USSR     Mtr Russ    MTM      48.0       46.0   0.0      0.0   \n",
       "1599           USSR  Semi Kazakh    MTM      50.0       78.0   0.0      0.0   \n",
       "1789           USSR    Perm Russ    NOA      61.0       58.0   4.5      0.0   \n",
       "\n",
       "      Depth  Lower  Upper Purpose   Name    Type  Day  Month  Year  \n",
       "352     0.0  1.200    1.2      We    Nan   Space   27     10  1961  \n",
       "1599    0.0  0.001   20.0      Wr    Nan  Tunnel    5     12  1980  \n",
       "1789    0.0  3.200    3.2     Pne  Geliy   Shaft   28      8  1984  "
      ]
     },
     "execution_count": 179,
     "metadata": {},
     "output_type": "execute_result"
    }
   ],
   "source": [
    "data[data.duplicated()]"
   ]
  },
  {
   "cell_type": "code",
   "execution_count": 180,
   "id": "bbb10fd0-7861-4b79-983c-0e08a075bfc7",
   "metadata": {},
   "outputs": [],
   "source": [
    "import matplotlib.pyplot as plt"
   ]
  },
  {
   "cell_type": "code",
   "execution_count": 209,
   "id": "0eeb54ef-55e2-4e81-90e0-fba433a3c3de",
   "metadata": {},
   "outputs": [
    {
     "data": {
      "image/png": "[encoded data removed]",
      "text/plain": [
       "<Figure size 432x288 with 1 Axes>"
      ]
     },
     "metadata": {
      "needs_background": "light"
     },
     "output_type": "display_data"
    }
   ],
   "source": [
    "plt.plot(data['SOURCE_COUNTRY'].value_counts(),'r*-')\n",
    "plt.xlabel(\"Country\")\n",
    "plt.ylabel(\"Count\")\n",
    "plt.title(\"Country wise count of explosion\")\n",
    "plt.show()"
   ]
  },
  {
   "cell_type": "code",
   "execution_count": 205,
   "id": "65a688f0-6a23-4b58-a0f6-304e59e348f3",
   "metadata": {},
   "outputs": [
    {
     "data": {
      "image/png": "[encoded data removed]",
      "text/plain": [
       "<Figure size 432x288 with 1 Axes>"
      ]
     },
     "metadata": {
      "needs_background": "light"
     },
     "output_type": "display_data"
    }
   ],
   "source": [
    "sns.countplot(x='DEPLOY_LOC',data=data)\n",
    "plt.xticks(rotation=45)\n",
    "plt.show()"
   ]
  },
  {
   "cell_type": "code",
   "execution_count": 206,
   "id": "63d083c3-b444-4d24-a456-9d115f7ee291",
   "metadata": {},
   "outputs": [
    {
     "data": {
      "image/png": "[encoded data removed]",
      "text/plain": [
       "<Figure size 432x288 with 1 Axes>"
      ]
     },
     "metadata": {
      "needs_background": "light"
     },
     "output_type": "display_data"
    }
   ],
   "source": [
    "sns.countplot(x='Year',data=data)\n",
    "plt.xticks(rotation=45)\n",
    "plt.show()"
   ]
  },
  {
   "cell_type": "code",
   "execution_count": 182,
   "id": "a3b0f0ad-6f55-4fcb-adaf-30865395608a",
   "metadata": {},
   "outputs": [
    {
     "data": {
      "image/png": "[encoded data removed]",
      "text/plain": [
       "<Figure size 432x288 with 1 Axes>"
      ]
     },
     "metadata": {
      "needs_background": "light"
     },
     "output_type": "display_data"
    }
   ],
   "source": [
    "plt.plot((data['SOURCE_COUNTRY'].value_counts()/data['SOURCE_COUNTRY'].value_counts().sum())*100,'k*-')\n",
    "plt.xlabel(\"Country\")\n",
    "plt.ylabel(\"Percentage\")\n",
    "plt.title(\"Country wise average explosion yield\")\n",
    "plt.show()"
   ]
  },
  {
   "cell_type": "code",
   "execution_count": 183,
   "id": "962dfc67-9fe8-4a46-8f6f-da663e00a4cc",
   "metadata": {},
   "outputs": [
    {
     "data": {
      "image/png": "[encoded data removed]",
      "text/plain": [
       "<Figure size 432x288 with 1 Axes>"
      ]
     },
     "metadata": {
      "needs_background": "light"
     },
     "output_type": "display_data"
    }
   ],
   "source": [
    "sns.countplot(x='Type',data=data)\n",
    "plt.xticks(rotation=45)\n",
    "plt.show()"
   ]
  },
  {
   "cell_type": "code",
   "execution_count": 184,
   "id": "13b33b15-47eb-4bba-9b88-897f57529fa5",
   "metadata": {},
   "outputs": [
    {
     "data": {
      "image/png": "[encoded data removed]",
      "text/plain": [
       "<Figure size 432x288 with 1 Axes>"
      ]
     },
     "metadata": {
      "needs_background": "light"
     },
     "output_type": "display_data"
    }
   ],
   "source": [
    "plt.plot((data['Type'].value_counts()/data['Type'].value_counts().sum())*100,'r*-')\n",
    "plt.xticks(rotation=45)\n",
    "plt.show()"
   ]
  },
  {
   "cell_type": "code",
   "execution_count": 199,
   "id": "8d1a43bf-8026-43e9-a74a-df9cb9189010",
   "metadata": {},
   "outputs": [
    {
     "data": {
      "text/plain": [
       "<AxesSubplot: >"
      ]
     },
     "execution_count": 199,
     "metadata": {},
     "output_type": "execute_result"
    },
    {
     "data": {
      "image/png": "[encoded data removed]",
      "text/plain": [
       "<Figure size 432x288 with 2 Axes>"
      ]
     },
     "metadata": {
      "needs_background": "light"
     },
     "output_type": "display_data"
    }
   ],
   "source": [
    "sns.heatmap((data[['Upper','Lower','Depth']]).corr())"
   ]
  },
  {
   "cell_type": "code",
   "execution_count": 204,
   "id": "c7c5d97a-a5ba-418b-8712-f8c8f990e6d3",
   "metadata": {},
   "outputs": [
    {
     "data": {
      "text/plain": [
       "<AxesSubplot: >"
      ]
     },
     "execution_count": 204,
     "metadata": {},
     "output_type": "execute_result"
    },
    {
     "data": {
      "image/png": "[encoded data removed]",
      "text/plain": [
       "<Figure size 432x288 with 1 Axes>"
      ]
     },
     "metadata": {
      "needs_background": "light"
     },
     "output_type": "display_data"
    }
   ],
   "source": [
    "sns.boxplot(data=data[['Latitude','Longitude','Body','Surface','Depth','Lower','Upper']],palette='rainbow',orient='h')"
   ]
  },
  {
   "cell_type": "code",
   "execution_count": null,
   "id": "984d6428-012e-44da-a5ca-819e0c766df2",
   "metadata": {},
   "outputs": [],
   "source": []
  }
 ],
 "metadata": {
  "kernelspec": {
   "display_name": "Python 3 [3.10]",
   "language": "python",
   "name": "python3"
  },
  "language_info": {
   "codemirror_mode": {
    "name": "ipython",
    "version": 3
   },
   "file_extension": ".py",
   "mimetype": "text/x-python",
   "name": "python",
   "nbconvert_exporter": "python",
   "pygments_lexer": "ipython3",
   "version": "3.10.2"
  }
 },
 "nbformat": 4,
 "nbformat_minor": 5
}
