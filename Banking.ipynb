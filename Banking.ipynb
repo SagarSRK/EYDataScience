{
 "cells": [
  {
   "cell_type": "code",
   "execution_count": 3,
   "metadata": {},
   "outputs": [
    {
     "ename": "FileExistsError",
     "evalue": "[Errno 17] File exists: 'Banking'",
     "output_type": "error",
     "traceback": [
      "\u001b[0;31m---------------------------------------------------------------------------\u001b[0m",
      "\u001b[0;31mFileExistsError\u001b[0m                           Traceback (most recent call last)",
      "\u001b[0;32m<ipython-input-3-0d3c2552b149>\u001b[0m in \u001b[0;36m<module>\u001b[0;34m\u001b[0m\n\u001b[1;32m      1\u001b[0m \u001b[0;32mimport\u001b[0m \u001b[0mos\u001b[0m\u001b[0;34m\u001b[0m\u001b[0;34m\u001b[0m\u001b[0m\n\u001b[1;32m      2\u001b[0m \u001b[0mos\u001b[0m\u001b[0;34m.\u001b[0m\u001b[0mgetcwd\u001b[0m\u001b[0;34m(\u001b[0m\u001b[0;34m)\u001b[0m\u001b[0;34m\u001b[0m\u001b[0;34m\u001b[0m\u001b[0m\n\u001b[0;32m----> 3\u001b[0;31m \u001b[0mos\u001b[0m\u001b[0;34m.\u001b[0m\u001b[0mmkdir\u001b[0m\u001b[0;34m(\u001b[0m\u001b[0;34m\"Banking\"\u001b[0m\u001b[0;34m)\u001b[0m\u001b[0;34m\u001b[0m\u001b[0;34m\u001b[0m\u001b[0m\n\u001b[0m",
      "\u001b[0;31mFileExistsError\u001b[0m: [Errno 17] File exists: 'Banking'"
     ]
    }
   ],
   "source": [
    "import os\n",
    "os.getcwd()\n",
    "os.mkdir(\"Banking\")"
   ]
  },
  {
   "cell_type": "code",
   "execution_count": 14,
   "metadata": {},
   "outputs": [],
   "source": [
    "def login():\n",
    "    print(\"Welcome to EY Banking\")\n",
    "    un=input(\"Enter your username\")\n",
    "    pw=input(\"Enter your password\")\n",
    "    if(un in os.listdir()):\n",
    "        file=open(\"/home/labsuser/PythonResource/Day3/{}/Credentials.txt\".format(un))\n",
    "        for lines in file.readlines():\n",
    "            if pw==lines:\n",
    "                transactions(un)\n",
    "            else:\n",
    "                print(\"Incorrect Password,Try again!\")\n",
    "                login()\n",
    "        file.close()\n",
    "    else:\n",
    "        print(\"User not found,Try again\")\n",
    "        login()"
   ]
  },
  {
   "cell_type": "code",
   "execution_count": 146,
   "metadata": {},
   "outputs": [],
   "source": [
    "def transactions(un):\n",
    "    print(\"What do you want to perform?\")\n",
    "    inp=input(\"1-Check Balance,2-Last 5 Transactions, 3-Withdraw,4-Deposit,5-Logout\")\n",
    "    if(inp==\"1\"):\n",
    "        file=open(\"/home/labsuser/PythonResource/Day3/{}/Transactions.txt\".format(un))\n",
    "        for lines in file.readlines():\n",
    "            print(\"Your Balance is {}\".format(lines))\n",
    "            transactions(un)\n",
    "            break\n",
    "    else:\n",
    "        if(inp==\"2\"):\n",
    "            file=open(\"/home/labsuser/PythonResource/Day3/{}/Transactions.txt\".format(un))\n",
    "            print(\"Last 5 Transactions are:\")\n",
    "            for lines in file.readlines()[1:]:\n",
    "                print(lines)\n",
    "            transactions(un)\n",
    "                \n",
    "        else:\n",
    "            if(inp==\"3\"):\n",
    "                file=open(\"/home/labsuser/PythonResource/Day3/{}/Transactions.txt\".format(un))\n",
    "                wd=int(input(\"Enter Amount to Withdraw\"))\n",
    "                for lines in file.readlines():\n",
    "                    \n",
    "                    if wd<=int(lines):\n",
    "                        x=int(lines)-wd\n",
    "                        \n",
    "                        \n",
    "                        print(\"Amount Withdrawn,Thankyou for Banking with us\")\n",
    "                        with open((\"/home/labsuser/PythonResource/Day3/{}/Transactions.txt\".format(un)),'r') as li:\n",
    "                            data=li.readlines()\n",
    "                            data[0]=str(x)+'\\n'\n",
    "                            \n",
    "                            \n",
    "                        with open((\"/home/labsuser/PythonResource/Day3/{}/Transactions.txt\".format(un)),'w') as li:\n",
    "                            li.writelines(data)\n",
    "                            \n",
    "                        li.close()\n",
    "                    \n",
    "                        break\n",
    "                    else:\n",
    "                        print(\"Insufficient Balance\")\n",
    "                        break\n",
    "                transactions(un)\n",
    "            else:\n",
    "                if(inp==\"4\"):\n",
    "                    file=open(\"/home/labsuser/PythonResource/Day3/{}/Transactions.txt\".format(un))\n",
    "                    wd=int(input(\"Enter Amount to Deposit\"))\n",
    "                    for lines in file.readlines():\n",
    "\n",
    "                        x=int(lines)+wd\n",
    "\n",
    "\n",
    "                        print(\"Amount Deposited,Thankyou for Banking with us\")\n",
    "                        with open((\"/home/labsuser/PythonResource/Day3/{}/Transactions.txt\".format(un)),'r') as li:\n",
    "                                data=li.readlines()\n",
    "                                data[0]=str(x)+'\\n'\n",
    "\n",
    "\n",
    "                        with open((\"/home/labsuser/PythonResource/Day3/{}/Transactions.txt\".format(un)),'w') as li:\n",
    "                                li.writelines(data)\n",
    "\n",
    "                        li.close()\n",
    "                        transactions(un)\n",
    "                        \n",
    "                else:\n",
    "                    if(inp==\"5\"):\n",
    "                        print(\"Thankyou for Banking\")\n",
    "                        \n",
    "            \n",
    "    "
   ]
  },
  {
   "cell_type": "code",
   "execution_count": 149,
   "metadata": {},
   "outputs": [
    {
     "name": "stdout",
     "output_type": "stream",
     "text": [
      "Welcome to EY Banking\n"
     ]
    },
    {
     "name": "stdin",
     "output_type": "stream",
     "text": [
      "Enter your username Sagar\n",
      "Enter your password 12345\n"
     ]
    },
    {
     "name": "stdout",
     "output_type": "stream",
     "text": [
      "What do you want to perform?\n"
     ]
    },
    {
     "name": "stdin",
     "output_type": "stream",
     "text": [
      "1-Check Balance,2-Last 5 Transactions, 3-Withdraw,4-Deposit,5-Logout 1\n"
     ]
    },
    {
     "name": "stdout",
     "output_type": "stream",
     "text": [
      "Your Balance is 10000\n",
      "\n",
      "What do you want to perform?\n"
     ]
    },
    {
     "name": "stdin",
     "output_type": "stream",
     "text": [
      "1-Check Balance,2-Last 5 Transactions, 3-Withdraw,4-Deposit,5-Logout 5\n"
     ]
    },
    {
     "name": "stdout",
     "output_type": "stream",
     "text": [
      "Thankyou for Banking\n"
     ]
    }
   ],
   "source": [
    "login()"
   ]
  },
  {
   "cell_type": "code",
   "execution_count": null,
   "metadata": {},
   "outputs": [],
   "source": []
  }
 ],
 "metadata": {
  "kernelspec": {
   "display_name": "Python 3",
   "language": "python",
   "name": "python3"
  },
  "language_info": {
   "codemirror_mode": {
    "name": "ipython",
    "version": 3
   },
   "file_extension": ".py",
   "mimetype": "text/x-python",
   "name": "python",
   "nbconvert_exporter": "python",
   "pygments_lexer": "ipython3",
   "version": "3.7.6"
  }
 },
 "nbformat": 4,
 "nbformat_minor": 4
}
